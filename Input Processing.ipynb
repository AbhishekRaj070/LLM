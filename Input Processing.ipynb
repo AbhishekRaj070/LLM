{
 "cells": [
  {
   "cell_type": "markdown",
   "id": "aac63f6d",
   "metadata": {},
   "source": [
    "<div class=\"alert alert-block alert-success\">\n",
    "<b>Input Processing:</b> Reading the book called \"The Verdict\" into the Notebook\n",
    "</div>"
   ]
  },
  {
   "cell_type": "code",
   "execution_count": 48,
   "id": "cedd42e7",
   "metadata": {},
   "outputs": [],
   "source": [
    "import torch\n",
    "\n",
    "with open('the-verdict.txt', mode='r',encoding='utf-8') as data:\n",
    "    text_data = data.read()"
   ]
  },
  {
   "cell_type": "markdown",
   "id": "d12a5b50",
   "metadata": {},
   "source": [
    "<div class=\"alert alert-block alert-success\">\n",
    "<b>Encoding Class:</b> Encoding using Tiktoken tokenizer. Using GPT2 encoding model\n",
    "</div>"
   ]
  },
  {
   "cell_type": "code",
   "execution_count": 49,
   "id": "58ea1838",
   "metadata": {},
   "outputs": [],
   "source": [
    "class Tokenizer:\n",
    "    \n",
    "    def __init__(self,text_data):\n",
    "        import tiktoken\n",
    "        self._text_data = text_data\n",
    "        self._encoder = tiktoken.get_encoding('gpt2')\n",
    "        \n",
    "    def Encoding(self):\n",
    "        ids = self._encoder.encode(self._text_data)\n",
    "        return ids\n",
    "        "
   ]
  },
  {
   "cell_type": "markdown",
   "id": "64585667",
   "metadata": {},
   "source": [
    "<div class=\"alert alert-block alert-info\">\n",
    "<b>Tokenizer Example:</b> Using artificial data\n",
    "</div>"
   ]
  },
  {
   "cell_type": "code",
   "execution_count": 50,
   "id": "fa72398d",
   "metadata": {},
   "outputs": [
    {
     "name": "stdout",
     "output_type": "stream",
     "text": [
      "[1212, 318, 655, 281, 1672, 4731, 13]\n"
     ]
    }
   ],
   "source": [
    "Id = Tokenizer('This is just an example string.').Encoding()\n",
    "print(Id)"
   ]
  },
  {
   "cell_type": "markdown",
   "id": "1705b508",
   "metadata": {},
   "source": [
    "<div class=\"alert alert-block alert-success\">\n",
    "<b>Dataset Class:</b> Dataset class is created using dataset and dataloader class from Torch.utils.data  \n",
    "</div>"
   ]
  },
  {
   "cell_type": "code",
   "execution_count": 108,
   "id": "da8a9cfd",
   "metadata": {},
   "outputs": [],
   "source": [
    "from torch.utils.data import Dataset, DataLoader\n",
    "\n",
    "class Dataset_(Dataset):\n",
    "    # Takes a list of ids to initialize\n",
    "    def __init__(self, ids, context_length, stride):\n",
    "        \n",
    "        self._ids = ids\n",
    "        self._Inputs = []\n",
    "        self._Targets = []\n",
    "        \n",
    "    # Creates input matrix consisting of ids arranged in batches * context_lenght\n",
    "    # Also creates output for each input \n",
    "        \n",
    "        for i in range(0, len(self._ids)-context_length, stride):\n",
    "            \n",
    "            # take the ids from ith position to all the way to the conext size\n",
    "            input_ids = self._ids[i:i+context_length]\n",
    "            target_ids = self._ids[i+1:i+context_length+1]\n",
    "            \n",
    "            # append the temporary inputs and outputs to main Input and Output array object\n",
    "            self._Inputs.append(torch.tensor(input_ids))\n",
    "            self._Targets.append(torch.tensor(target_ids))\n",
    " \n",
    "    #def get(self, rowx):\n",
    "        #return self._Inputs[rowx], self._Targets[rowx] \n",
    "        \n",
    "    \n",
    "    def __len__(self):\n",
    "        \n",
    "        return len(self._ids)\n",
    "    \n",
    "    # Returns the input and outpair of desired row\n",
    "    def __getitem__(self, rowx):\n",
    "        \n",
    "        return self._Inputs[rowx], self._Targets[rowx] "
   ]
  },
  {
   "cell_type": "markdown",
   "id": "a427295e",
   "metadata": {},
   "source": [
    "<div class=\"alert alert-block alert-success\">\n",
    "<b>Dataloader Function:</b> \n",
    "</div>"
   ]
  },
  {
   "cell_type": "code",
   "execution_count": 109,
   "id": "70d30d44",
   "metadata": {},
   "outputs": [],
   "source": [
    "def Dataloader(dataset):\n",
    "    return DataLoader(dataset, batch_size, drop_last= True)"
   ]
  }
 ],
 "metadata": {
  "kernelspec": {
   "display_name": "Python 3 (ipykernel)",
   "language": "python",
   "name": "python3"
  },
  "language_info": {
   "codemirror_mode": {
    "name": "ipython",
    "version": 3
   },
   "file_extension": ".py",
   "mimetype": "text/x-python",
   "name": "python",
   "nbconvert_exporter": "python",
   "pygments_lexer": "ipython3",
   "version": "3.9.13"
  }
 },
 "nbformat": 4,
 "nbformat_minor": 5
}
